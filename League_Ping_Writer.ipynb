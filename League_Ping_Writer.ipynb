{
 "cells": [
  {
   "cell_type": "code",
   "execution_count": 1,
   "metadata": {
    "execution": {
     "iopub.execute_input": "2020-10-19T21:08:57.759518Z",
     "iopub.status.busy": "2020-10-19T21:08:57.758519Z",
     "iopub.status.idle": "2020-10-19T21:08:58.420362Z",
     "shell.execute_reply": "2020-10-19T21:08:58.418362Z",
     "shell.execute_reply.started": "2020-10-19T21:08:57.759518Z"
    }
   },
   "outputs": [],
   "source": [
    "import pandas as pd\n",
    "import numpy as np\n",
    "from ping3 import ping, verbose_ping\n",
    "import time"
   ]
  },
  {
   "cell_type": "code",
   "execution_count": 2,
   "metadata": {
    "execution": {
     "iopub.execute_input": "2020-10-19T21:08:58.423362Z",
     "iopub.status.busy": "2020-10-19T21:08:58.422363Z",
     "iopub.status.idle": "2020-10-19T21:08:58.433362Z",
     "shell.execute_reply": "2020-10-19T21:08:58.432363Z",
     "shell.execute_reply.started": "2020-10-19T21:08:58.423362Z"
    }
   },
   "outputs": [],
   "source": [
    "def calc_ping_stats(n=100, interval=0.25):\n",
    "    ping_array = []\n",
    "    for i in range(n):\n",
    "        ping_array.append(ping(\"192.64.170.1\", unit=\"ms\", size=32,))\n",
    "        time.sleep(interval)\n",
    "    ping_array = np.array(ping_array)\n",
    "    return dict(\n",
    "        zip(\n",
    "            (\"time\", \"min\", \"max\", \"mean\", \"jitter\", \"n_threshold\", \"n\"),\n",
    "            (\n",
    "                [pd.Timestamp.now().round(\"s\")],\n",
    "                [np.min(ping_array)],\n",
    "                [np.max(ping_array)],\n",
    "                [np.mean(ping_array)],\n",
    "                [np.sum(np.abs(np.diff(ping_array))) / (n - 1)],\n",
    "                [(ping_array > 100).sum()],\n",
    "                [n],\n",
    "            ),\n",
    "        )\n",
    "    )"
   ]
  },
  {
   "cell_type": "code",
   "execution_count": null,
   "metadata": {
    "execution": {
     "iopub.execute_input": "2020-10-19T21:08:58.436363Z",
     "iopub.status.busy": "2020-10-19T21:08:58.435362Z"
    }
   },
   "outputs": [],
   "source": [
    "while True:\n",
    "    row = pd.DataFrame(calc_ping_stats(interval=0.1))\n",
    "    row.to_csv(\"league_ping_data.csv\", header=False, index=False, mode=\"a\")\n",
    "    time.sleep(5)"
   ]
  }
 ],
 "metadata": {
  "kernelspec": {
   "display_name": "Python 3",
   "language": "python",
   "name": "python3"
  },
  "language_info": {
   "codemirror_mode": {
    "name": "ipython",
    "version": 3
   },
   "file_extension": ".py",
   "mimetype": "text/x-python",
   "name": "python",
   "nbconvert_exporter": "python",
   "pygments_lexer": "ipython3",
   "version": "3.7.9"
  }
 },
 "nbformat": 4,
 "nbformat_minor": 4
}
