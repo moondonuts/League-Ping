{
 "cells": [
  {
   "cell_type": "code",
   "execution_count": 1,
   "metadata": {
    "execution": {
     "iopub.execute_input": "2020-10-20T01:50:33.602588Z",
     "iopub.status.busy": "2020-10-20T01:50:33.601588Z",
     "iopub.status.idle": "2020-10-20T01:50:34.366964Z",
     "shell.execute_reply": "2020-10-20T01:50:34.365963Z",
     "shell.execute_reply.started": "2020-10-20T01:50:33.601588Z"
    }
   },
   "outputs": [],
   "source": [
    "import pandas as pd\n",
    "import numpy as np\n",
    "from ping3 import ping, verbose_ping\n",
    "import time"
   ]
  },
  {
   "cell_type": "code",
   "execution_count": 2,
   "metadata": {
    "execution": {
     "iopub.execute_input": "2020-10-20T01:50:34.369964Z",
     "iopub.status.busy": "2020-10-20T01:50:34.368964Z",
     "iopub.status.idle": "2020-10-20T01:50:34.379964Z",
     "shell.execute_reply": "2020-10-20T01:50:34.378965Z",
     "shell.execute_reply.started": "2020-10-20T01:50:34.369964Z"
    }
   },
   "outputs": [],
   "source": [
    "def calc_ping_stats(n=100, interval=0.25):\n",
    "    ping_array = []\n",
    "    for i in range(n):\n",
    "        ping_array.append(ping(\"192.64.170.1\", unit=\"ms\", size=32,))\n",
    "        time.sleep(interval)\n",
    "    ping_array = np.array(ping_array)\n",
    "    return dict(\n",
    "        zip(\n",
    "            (\"time\", \"min\", \"max\", \"mean\", \"jitter\", \"n_threshold\", \"n\"),\n",
    "            (\n",
    "                [pd.Timestamp.now().round(\"s\")],\n",
    "                [np.min(ping_array)],\n",
    "                [np.max(ping_array)],\n",
    "                [np.mean(ping_array)],\n",
    "                [np.sum(np.abs(np.diff(ping_array))) / (n - 1)],\n",
    "                [(ping_array > 100).sum()],\n",
    "                [n],\n",
    "            ),\n",
    "        )\n",
    "    )"
   ]
  },
  {
   "cell_type": "code",
   "execution_count": 14,
   "metadata": {
    "execution": {
     "iopub.execute_input": "2020-10-20T02:04:55.325792Z",
     "iopub.status.busy": "2020-10-20T02:04:55.324790Z",
     "iopub.status.idle": "2020-10-20T02:04:55.334853Z",
     "shell.execute_reply": "2020-10-20T02:04:55.334853Z",
     "shell.execute_reply.started": "2020-10-20T02:04:55.325792Z"
    }
   },
   "outputs": [],
   "source": [
    "import multiprocessing as mp"
   ]
  },
  {
   "cell_type": "code",
   "execution_count": null,
   "metadata": {
    "execution": {
     "iopub.execute_input": "2020-10-20T02:16:25.047295Z",
     "iopub.status.busy": "2020-10-20T02:16:25.046295Z"
    }
   },
   "outputs": [],
   "source": [
    "with mp.Pool() as pool:\n",
    "    results = pool.starmap(calc_ping_stats, list(zip([100]*len(intervals), intervals)))"
   ]
  },
  {
   "cell_type": "code",
   "execution_count": null,
   "metadata": {},
   "outputs": [],
   "source": [
    "pd.concat(results, keys = intervals)"
   ]
  },
  {
   "cell_type": "code",
   "execution_count": 13,
   "metadata": {
    "execution": {
     "iopub.execute_input": "2020-10-20T01:54:57.948425Z",
     "iopub.status.busy": "2020-10-20T01:54:57.948425Z",
     "iopub.status.idle": "2020-10-20T02:00:22.066943Z",
     "shell.execute_reply": "2020-10-20T02:00:22.066943Z",
     "shell.execute_reply.started": "2020-10-20T01:54:57.948425Z"
    }
   },
   "outputs": [
    {
     "data": {
      "text/html": [
       "<div>\n",
       "<style scoped>\n",
       "    .dataframe tbody tr th:only-of-type {\n",
       "        vertical-align: middle;\n",
       "    }\n",
       "\n",
       "    .dataframe tbody tr th {\n",
       "        vertical-align: top;\n",
       "    }\n",
       "\n",
       "    .dataframe thead th {\n",
       "        text-align: right;\n",
       "    }\n",
       "</style>\n",
       "<table border=\"1\" class=\"dataframe\">\n",
       "  <thead>\n",
       "    <tr style=\"text-align: right;\">\n",
       "      <th></th>\n",
       "      <th></th>\n",
       "      <th>time</th>\n",
       "      <th>min</th>\n",
       "      <th>max</th>\n",
       "      <th>mean</th>\n",
       "      <th>jitter</th>\n",
       "      <th>n_threshold</th>\n",
       "      <th>n</th>\n",
       "    </tr>\n",
       "  </thead>\n",
       "  <tbody>\n",
       "    <tr>\n",
       "      <th>0.00</th>\n",
       "      <th>0</th>\n",
       "      <td>2020-10-19 21:55:01</td>\n",
       "      <td>21.993160</td>\n",
       "      <td>390.712261</td>\n",
       "      <td>27.515841</td>\n",
       "      <td>9.163057</td>\n",
       "      <td>1</td>\n",
       "      <td>100</td>\n",
       "    </tr>\n",
       "    <tr>\n",
       "      <th>0.05</th>\n",
       "      <th>0</th>\n",
       "      <td>2020-10-19 21:55:09</td>\n",
       "      <td>16.001225</td>\n",
       "      <td>383.803606</td>\n",
       "      <td>30.701058</td>\n",
       "      <td>16.759909</td>\n",
       "      <td>2</td>\n",
       "      <td>100</td>\n",
       "    </tr>\n",
       "    <tr>\n",
       "      <th>0.10</th>\n",
       "      <th>0</th>\n",
       "      <td>2020-10-19 21:55:23</td>\n",
       "      <td>22.000074</td>\n",
       "      <td>382.029295</td>\n",
       "      <td>40.808477</td>\n",
       "      <td>35.484210</td>\n",
       "      <td>5</td>\n",
       "      <td>100</td>\n",
       "    </tr>\n",
       "    <tr>\n",
       "      <th>0.15</th>\n",
       "      <th>0</th>\n",
       "      <td>2020-10-19 21:55:43</td>\n",
       "      <td>18.002033</td>\n",
       "      <td>389.050722</td>\n",
       "      <td>45.361800</td>\n",
       "      <td>43.220807</td>\n",
       "      <td>7</td>\n",
       "      <td>100</td>\n",
       "    </tr>\n",
       "    <tr>\n",
       "      <th>0.20</th>\n",
       "      <th>0</th>\n",
       "      <td>2020-10-19 21:56:08</td>\n",
       "      <td>21.990538</td>\n",
       "      <td>383.028030</td>\n",
       "      <td>49.104512</td>\n",
       "      <td>52.348180</td>\n",
       "      <td>8</td>\n",
       "      <td>100</td>\n",
       "    </tr>\n",
       "    <tr>\n",
       "      <th>0.25</th>\n",
       "      <th>0</th>\n",
       "      <td>2020-10-19 21:56:38</td>\n",
       "      <td>22.000551</td>\n",
       "      <td>292.526960</td>\n",
       "      <td>49.224508</td>\n",
       "      <td>53.237792</td>\n",
       "      <td>10</td>\n",
       "      <td>100</td>\n",
       "    </tr>\n",
       "    <tr>\n",
       "      <th>0.30</th>\n",
       "      <th>0</th>\n",
       "      <td>2020-10-19 21:57:11</td>\n",
       "      <td>22.001743</td>\n",
       "      <td>377.804995</td>\n",
       "      <td>36.994381</td>\n",
       "      <td>28.117536</td>\n",
       "      <td>6</td>\n",
       "      <td>100</td>\n",
       "    </tr>\n",
       "    <tr>\n",
       "      <th>0.35</th>\n",
       "      <th>0</th>\n",
       "      <td>2020-10-19 21:57:52</td>\n",
       "      <td>15.002251</td>\n",
       "      <td>383.028984</td>\n",
       "      <td>52.552359</td>\n",
       "      <td>60.358881</td>\n",
       "      <td>8</td>\n",
       "      <td>100</td>\n",
       "    </tr>\n",
       "    <tr>\n",
       "      <th>0.40</th>\n",
       "      <th>0</th>\n",
       "      <td>2020-10-19 21:58:35</td>\n",
       "      <td>22.000790</td>\n",
       "      <td>105.008125</td>\n",
       "      <td>28.315017</td>\n",
       "      <td>10.566784</td>\n",
       "      <td>1</td>\n",
       "      <td>100</td>\n",
       "    </tr>\n",
       "    <tr>\n",
       "      <th>0.45</th>\n",
       "      <th>0</th>\n",
       "      <td>2020-10-19 21:59:25</td>\n",
       "      <td>16.000986</td>\n",
       "      <td>328.533173</td>\n",
       "      <td>51.337240</td>\n",
       "      <td>55.919091</td>\n",
       "      <td>17</td>\n",
       "      <td>100</td>\n",
       "    </tr>\n",
       "    <tr>\n",
       "      <th>0.50</th>\n",
       "      <th>0</th>\n",
       "      <td>2020-10-19 22:00:22</td>\n",
       "      <td>21.987438</td>\n",
       "      <td>391.287565</td>\n",
       "      <td>69.600377</td>\n",
       "      <td>89.862710</td>\n",
       "      <td>14</td>\n",
       "      <td>100</td>\n",
       "    </tr>\n",
       "  </tbody>\n",
       "</table>\n",
       "</div>"
      ],
      "text/plain": [
       "                      time        min         max       mean     jitter  \\\n",
       "0.00 0 2020-10-19 21:55:01  21.993160  390.712261  27.515841   9.163057   \n",
       "0.05 0 2020-10-19 21:55:09  16.001225  383.803606  30.701058  16.759909   \n",
       "0.10 0 2020-10-19 21:55:23  22.000074  382.029295  40.808477  35.484210   \n",
       "0.15 0 2020-10-19 21:55:43  18.002033  389.050722  45.361800  43.220807   \n",
       "0.20 0 2020-10-19 21:56:08  21.990538  383.028030  49.104512  52.348180   \n",
       "0.25 0 2020-10-19 21:56:38  22.000551  292.526960  49.224508  53.237792   \n",
       "0.30 0 2020-10-19 21:57:11  22.001743  377.804995  36.994381  28.117536   \n",
       "0.35 0 2020-10-19 21:57:52  15.002251  383.028984  52.552359  60.358881   \n",
       "0.40 0 2020-10-19 21:58:35  22.000790  105.008125  28.315017  10.566784   \n",
       "0.45 0 2020-10-19 21:59:25  16.000986  328.533173  51.337240  55.919091   \n",
       "0.50 0 2020-10-19 22:00:22  21.987438  391.287565  69.600377  89.862710   \n",
       "\n",
       "        n_threshold    n  \n",
       "0.00 0            1  100  \n",
       "0.05 0            2  100  \n",
       "0.10 0            5  100  \n",
       "0.15 0            7  100  \n",
       "0.20 0            8  100  \n",
       "0.25 0           10  100  \n",
       "0.30 0            6  100  \n",
       "0.35 0            8  100  \n",
       "0.40 0            1  100  \n",
       "0.45 0           17  100  \n",
       "0.50 0           14  100  "
      ]
     },
     "execution_count": 13,
     "metadata": {},
     "output_type": "execute_result"
    }
   ],
   "source": [
    "intervals = np.linspace(0, 0.5, 11)\n",
    "pd.concat(\n",
    "    [pd.DataFrame(calc_ping_stats(interval=ms, n=100)) for ms in intervals],\n",
    "    keys=intervals,\n",
    ")"
   ]
  }
 ],
 "metadata": {
  "kernelspec": {
   "display_name": "Python 3",
   "language": "python",
   "name": "python3"
  },
  "language_info": {
   "codemirror_mode": {
    "name": "ipython",
    "version": 3
   },
   "file_extension": ".py",
   "mimetype": "text/x-python",
   "name": "python",
   "nbconvert_exporter": "python",
   "pygments_lexer": "ipython3",
   "version": "3.7.9"
  }
 },
 "nbformat": 4,
 "nbformat_minor": 4
}
